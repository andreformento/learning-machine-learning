{
 "cells": [
  {
   "cell_type": "markdown",
   "id": "842d3cf0",
   "metadata": {},
   "source": [
    "# A Blending Problem\n",
    "## Optimization with PuLP - full problem\n",
    "\n",
    "- https://coin-or.github.io/pulp/CaseStudies/a_blending_problem.html#solution-to-full-problem"
   ]
  },
  {
   "cell_type": "code",
   "execution_count": 1,
   "id": "2eeff105",
   "metadata": {},
   "outputs": [],
   "source": [
    "# Import PuLP modeler functions\n",
    "import pulp as pl"
   ]
  },
  {
   "cell_type": "code",
   "execution_count": 2,
   "id": "6caae1fc",
   "metadata": {},
   "outputs": [],
   "source": [
    "# Creates a list of the Ingredients\n",
    "Ingredients = [\"CHICKEN\", \"BEEF\", \"MUTTON\", \"RICE\", \"WHEAT\", \"GEL\"]\n",
    "\n",
    "# A dictionary of the costs of each of the Ingredients is created\n",
    "costs = {\n",
    "    \"CHICKEN\": 0.013,\n",
    "    \"BEEF\": 0.008,\n",
    "    \"MUTTON\": 0.010,\n",
    "    \"RICE\": 0.002,\n",
    "    \"WHEAT\": 0.005,\n",
    "    \"GEL\": 0.001,\n",
    "}\n",
    "\n",
    "# A dictionary of the protein percent in each of the Ingredients is created\n",
    "proteinPercent = {\n",
    "    \"CHICKEN\": 0.100,\n",
    "    \"BEEF\": 0.200,\n",
    "    \"MUTTON\": 0.150,\n",
    "    \"RICE\": 0.000,\n",
    "    \"WHEAT\": 0.040,\n",
    "    \"GEL\": 0.000,\n",
    "}\n",
    "\n",
    "# A dictionary of the fat percent in each of the Ingredients is created\n",
    "fatPercent = {\n",
    "    \"CHICKEN\": 0.080,\n",
    "    \"BEEF\": 0.100,\n",
    "    \"MUTTON\": 0.110,\n",
    "    \"RICE\": 0.010,\n",
    "    \"WHEAT\": 0.010,\n",
    "    \"GEL\": 0.000,\n",
    "}\n",
    "\n",
    "# A dictionary of the fibre percent in each of the Ingredients is created\n",
    "fibrePercent = {\n",
    "    \"CHICKEN\": 0.001,\n",
    "    \"BEEF\": 0.005,\n",
    "    \"MUTTON\": 0.003,\n",
    "    \"RICE\": 0.100,\n",
    "    \"WHEAT\": 0.150,\n",
    "    \"GEL\": 0.000,\n",
    "}\n",
    "\n",
    "# A dictionary of the salt percent in each of the Ingredients is created\n",
    "saltPercent = {\n",
    "    \"CHICKEN\": 0.002,\n",
    "    \"BEEF\": 0.005,\n",
    "    \"MUTTON\": 0.007,\n",
    "    \"RICE\": 0.002,\n",
    "    \"WHEAT\": 0.008,\n",
    "    \"GEL\": 0.000,\n",
    "}"
   ]
  },
  {
   "cell_type": "code",
   "execution_count": 3,
   "id": "56121347",
   "metadata": {},
   "outputs": [],
   "source": [
    "# Create the 'prob' variable to contain the problem data\n",
    "prob = pl.LpProblem(\"The_Whiskas_Problem\", pl.LpMinimize)"
   ]
  },
  {
   "cell_type": "code",
   "execution_count": 4,
   "id": "bde06bbe",
   "metadata": {},
   "outputs": [
    {
     "name": "stdout",
     "output_type": "stream",
     "text": [
      "{'CHICKEN': Ingr_CHICKEN, 'BEEF': Ingr_BEEF, 'MUTTON': Ingr_MUTTON, 'RICE': Ingr_RICE, 'WHEAT': Ingr_WHEAT, 'GEL': Ingr_GEL}\n"
     ]
    }
   ],
   "source": [
    "# A dictionary called 'ingredient_vars' is created to contain the referenced Variables\n",
    "# https://coin-or.github.io/pulp/technical/pulp.html?highlight=lpvariable#pulp.LpVariable\n",
    "ingredient_vars = pl.LpVariable.dicts(\"Ingr\", Ingredients, 0)\n",
    "print(ingredient_vars)"
   ]
  },
  {
   "cell_type": "code",
   "execution_count": 5,
   "id": "08c55d0a",
   "metadata": {},
   "outputs": [
    {
     "name": "stdout",
     "output_type": "stream",
     "text": [
      "0.008*Ingr_BEEF + 0.013*Ingr_CHICKEN + 0.001*Ingr_GEL + 0.01*Ingr_MUTTON + 0.002*Ingr_RICE + 0.005*Ingr_WHEAT\n"
     ]
    }
   ],
   "source": [
    "# The objective function is added to 'prob' first\n",
    "objective_function = pl.lpSum([costs[i] * ingredient_vars[i] for i in Ingredients])\n",
    "prob += (\n",
    "    objective_function,\n",
    "    \"Total Cost of Ingredients per can\",\n",
    ")\n",
    "print(objective_function)"
   ]
  },
  {
   "cell_type": "code",
   "execution_count": 6,
   "id": "b8cf6558",
   "metadata": {},
   "outputs": [],
   "source": [
    "# The five constraints are added to 'prob'\n",
    "prob += pl.lpSum([ingredient_vars[i] for i in Ingredients]) == 100, \"PercentagesSum\"\n",
    "prob += (\n",
    "    pl.lpSum([proteinPercent[i] * ingredient_vars[i] for i in Ingredients]) >= 8.0,\n",
    "    \"ProteinRequirement\",\n",
    ")\n",
    "prob += (\n",
    "    pl.lpSum([fatPercent[i] * ingredient_vars[i] for i in Ingredients]) >= 6.0,\n",
    "    \"FatRequirement\",\n",
    ")\n",
    "prob += (\n",
    "    pl.lpSum([fibrePercent[i] * ingredient_vars[i] for i in Ingredients]) <= 2.0,\n",
    "    \"FibreRequirement\",\n",
    ")\n",
    "prob += (\n",
    "    pl.lpSum([saltPercent[i] * ingredient_vars[i] for i in Ingredients]) <= 0.4,\n",
    "    \"SaltRequirement\",\n",
    ")"
   ]
  },
  {
   "cell_type": "code",
   "execution_count": 7,
   "id": "bf9b2cc4",
   "metadata": {},
   "outputs": [
    {
     "data": {
      "text/plain": [
       "1"
      ]
     },
     "execution_count": 7,
     "metadata": {},
     "output_type": "execute_result"
    }
   ],
   "source": [
    "# The problem is solved using PuLP's choice of Solver\n",
    "prob.solve()"
   ]
  },
  {
   "cell_type": "code",
   "execution_count": 8,
   "id": "881759a5",
   "metadata": {},
   "outputs": [
    {
     "name": "stdout",
     "output_type": "stream",
     "text": [
      "Status: Optimal\n"
     ]
    }
   ],
   "source": [
    "# The status of the solution is printed to the screen\n",
    "print(\"Status:\", pl.LpStatus[prob.status])"
   ]
  },
  {
   "cell_type": "code",
   "execution_count": 9,
   "id": "db3a14e8",
   "metadata": {},
   "outputs": [
    {
     "name": "stdout",
     "output_type": "stream",
     "text": [
      "Ingr_BEEF = 60.0\n",
      "Ingr_CHICKEN = 0.0\n",
      "Ingr_GEL = 40.0\n",
      "Ingr_MUTTON = 0.0\n",
      "Ingr_RICE = 0.0\n",
      "Ingr_WHEAT = 0.0\n"
     ]
    }
   ],
   "source": [
    "# Each of the variables is printed with it's resolved optimum value\n",
    "for v in prob.variables():\n",
    "    print(v.name, \"=\", v.varValue)"
   ]
  },
  {
   "cell_type": "code",
   "execution_count": 10,
   "id": "ca5ff600",
   "metadata": {},
   "outputs": [
    {
     "name": "stdout",
     "output_type": "stream",
     "text": [
      "Total Cost of Ingredients per can =  0.52\n"
     ]
    }
   ],
   "source": [
    "# The optimised objective function value is printed to the screen\n",
    "print(\"Total Cost of Ingredients per can = \", pl.value(prob.objective))"
   ]
  }
 ],
 "metadata": {
  "kernelspec": {
   "display_name": "Python 3 (ipykernel)",
   "language": "python",
   "name": "python3"
  },
  "language_info": {
   "codemirror_mode": {
    "name": "ipython",
    "version": 3
   },
   "file_extension": ".py",
   "mimetype": "text/x-python",
   "name": "python",
   "nbconvert_exporter": "python",
   "pygments_lexer": "ipython3",
   "version": "3.9.12"
  }
 },
 "nbformat": 4,
 "nbformat_minor": 5
}
